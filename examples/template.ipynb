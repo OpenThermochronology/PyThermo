{
 "cells": [
  {
   "cell_type": "markdown",
   "metadata": {},
   "source": [
    "# Examples for using PyThermo\n",
    "\n",
    "## Forward modeling\n",
    "\n",
    "The most straight-forward application of PyThermo is in forward modeling apatite and zircon (U-Th)/He dates. First, set-up the PyThermo package. You can do this one of two ways. [NOTE: intalling this code as a package is not yet available but is coming soon!] Either install with pip (see this [helpful](https://packaging.python.org/en/latest/tutorials/installing-packages/) guide for using pip if you are unfamiliar) by using this bit of text `python3 -m pip install \"PyThermo\"`, or co-locate the various files (\"constants.py\", \"crystal.py\", \"tT_model.py\", and \"tT_path.py\") found in \\src with this notebook. Below I include example code with both approaches.\n",
    "\n",
    "If you've installed PyThermo, use this bit of code:"
   ]
  },
  {
   "cell_type": "code",
   "execution_count": null,
   "metadata": {},
   "outputs": [],
   "source": [
    "import pythermo as pyt"
   ]
  },
  {
   "cell_type": "markdown",
   "metadata": {},
   "source": [
    "If you're using the source files directly, run this bit (Note that this will import all the methods in the various files, which may not be strictly necessary):"
   ]
  },
  {
   "cell_type": "code",
   "execution_count": null,
   "metadata": {},
   "outputs": [],
   "source": [
    "from crystal import *\n",
    "from tT_path import *\n",
    "from tT_model import *"
   ]
  },
  {
   "cell_type": "markdown",
   "metadata": {},
   "source": [
    "Now we're ready to demo the forward modeling setup. Import NumPy and Pandas, which you'll need for the data structures used as input for the forward model. "
   ]
  },
  {
   "cell_type": "code",
   "execution_count": null,
   "metadata": {},
   "outputs": [],
   "source": [
    "import numpy as np\n",
    "import pandas as pd"
   ]
  },
  {
   "cell_type": "markdown",
   "metadata": {},
   "source": [
    "We'll create the time-temperature (tT) path array first. This array should be organized in sets of 2 columns, with the first column as time (in millions of years), increasing from 0 (present day) to the oldest time, and the second column as the temperature (in $\\degree$ C) that corresponds to each time step. Multiple time-temperature paths can be included, with each individual path represented by two columns. Some paths will have more points than others. If this is the case, then the paths with fewer points should have rows of 0's below their oldest tT point. \n",
    "\n",
    "As an example, here's an array with 4 time-temperature paths with variable numbers of points. Running the code cell will display the array so that you have a sense for how it should look."
   ]
  },
  {
   "cell_type": "code",
   "execution_count": null,
   "metadata": {},
   "outputs": [],
   "source": [
    "#there are several ways to do this, here I'm building by rows (8 entries per row = 4 paths) alternating time, temp\n",
    "#as an example: the first tT path runs from 20 oC at 0 Ma, to 120 oC at 25 Ma\n",
    "tT_in_test = np.array([[0,20,0,20,0,20,0,20],[25,120,50,60,75,80,100,140],[0,0,60,40,230,50,0,0],[0,0,270,50,0,0,0,0]])\n",
    "tT_in_test"
   ]
  },
  {
   "cell_type": "markdown",
   "metadata": {},
   "source": [
    "Next, construct a DataFrame to hold the grain inputs that will be modeled.\n",
    "\n",
    "The layout for this DataFrame looks like this:\n",
    "\n",
    "|          | mineral type   |   age (Ma) |   error (Ma) | size ($\\mu$ m) |   U ppm |   Th ppm |   Sm ppm | diffusion model   | annealing model   |\n",
    "|:---------|:---------------|------:|--------:|-------:|--------:|---------:|---------:|:------------------|:------------------|\n",
    "| sample 1 | 'apatite'        |    60 |       2 |     60 |    10 |      10 |        10 | 'flowers'           | 'ketcham'           |\n",
    "| sample 2 | 'apatite'        |    80 |       2 |     60 |    50 |      10 |        10 | 'flowers'           | 'ketcham'           |\n",
    "| sample 3 | 'apatite'        |    90 |       2 |     60 |    150 |      10 |        10 | 'flowers'          | 'ketcham'           |\n",
    "\n",
    "A few things:\n",
    "\n",
    "1. The exact name of each column does not matter (you can call it whatever you want), but the ordering __does matter__. \n",
    "\n",
    "2. You can order the inputs however you want, but for plotting purposes, the grains should be organized by increasing eU concentration.\n",
    "\n",
    "3. There are several ways to plot different curves for grain size. These are explored further below. \n",
    "\n",
    "4. Different mineral systems can be run in the same DataFrame, but again, for plotting purposes, you should organize your inputs into separate DataFrames by mineral system (one for apatites, and another for zircons). The currently available inputs for mineral type are 'apatite' and 'zircon'. If you're running zircons, change each entry in that column to 'zircon'.\n",
    "\n",
    "5. Future versions of this package will allow for comparisons among or between diffusion and annealing models. Currently, each system has only one set of damage annealing and diffusion models. In apatite, 'flowers' corresponds to the damage-diffusivity relationship of Flowers et al. (2009) (https://doi.org/10.1016/j.gca.2009.01.015), and 'ketcham' corresponds to the apatite fission track annealing kinetics of Ketcham et al. (2007) (https://doi.org/10.2138/am.2007.2281). In zircon, 'guenthner' corresponds to the damage-diffusivity relationship of Guenthner et al. (2013) (https://doi.org/10.2475/03.2013.01), and 'guenthner' corresponds to the zircon fission track annealing kinetics as derived in the same publication.\n",
    "\n",
    "6. The 'age' and 'error' columns are currently placeholders and are __not__ used in the forward model.\n",
    "\n",
    "7. If you want a straight-forward approach to modeling based on eU, you can enter 0's for the Th and Sm columns. Note that there will be some minor discrepancy here when comparing to measured data as the Th and Sm alpha ejection lengths are different than U.\n",
    "\n",
    "The code below creates the DataFrame as displayed in this markdown."
   ]
  },
  {
   "cell_type": "code",
   "execution_count": null,
   "metadata": {},
   "outputs": [],
   "source": [
    "dict = {'mineral type':['apatite', 'apatite', 'apatite'], 'age':[60,80,90],'error':[2,2,2],'size':[60,60,60],'U ppm':[10,50,150],'Th ppm':[10,10,10],'Sm ppm':[10,10,10],'diffusion model':['flowers','flowers','flowers'],'annealing model':['ketcham','ketcham','ketcham']}\n",
    "\n",
    "grain_in = pd.DataFrame(data=dict,\n",
    "                        columns = ['mineral type', 'age', 'error','size','U ppm', 'Th ppm', 'Sm ppm', 'diffusion model', 'annealing model'],\n",
    "                        index = ['sample 1', 'sample 2', 'sample 3'])\n",
    "\n",
    "grain_in"
   ]
  },
  {
   "cell_type": "markdown",
   "metadata": {},
   "source": [
    "You may want to compare your forward model results to measured data. To do so, create a three column array with dates (Ma) in the first columns, 2 $\\sigma$ error (Ma) in the second column, eU (ppm) in the third column, and grain size ($\\mu$ m) in the fourth. Each row represents a single (U-Th)/He grain. Unlike the DataFrame, the ordering here does not matter for plotting purposes. This array is an optional input, as you will see below."
   ]
  },
  {
   "cell_type": "code",
   "execution_count": null,
   "metadata": {},
   "outputs": [],
   "source": [
    "obs_data = np.array([[62.8,1.2,60,80],[70.1,2.1,20,85],[55.2,0.9,120,65]])\n",
    "obs_data"
   ]
  },
  {
   "cell_type": "markdown",
   "metadata": {},
   "source": [
    "We're set to run! Create a tT_model object using your grain_in DataFrame and tT_in_test array"
   ]
  },
  {
   "cell_type": "code",
   "execution_count": null,
   "metadata": {},
   "outputs": [],
   "source": [
    "model_test = tT_model(grain_in,tT_in_test)"
   ]
  },
  {
   "cell_type": "markdown",
   "metadata": {},
   "source": [
    "The next set of options highlight several ways to model different curves for grain size effects. The first is to call `.forward()` with no additional parameters. This approach will use only the grain sizes input into the DataFrame. If you included only one grain size, you will get only one solid curve per tT path. If you included different grain sizes, you will get three curves per tT path: 1 solid curve for the mean size, and 2 dashed curves corresponding to the $\\pm$ 2 $\\sigma$ standard deviation."
   ]
  },
  {
   "cell_type": "code",
   "execution_count": null,
   "metadata": {},
   "outputs": [],
   "source": [
    "model_data = model_test.forward()"
   ]
  },
  {
   "cell_type": "markdown",
   "metadata": {},
   "source": [
    "A second option is to include a standard deviation as a parameter passed to `.forward()`. This will also yield three curves per tT path"
   ]
  },
  {
   "cell_type": "code",
   "execution_count": null,
   "metadata": {},
   "outputs": [],
   "source": [
    "model_data = model_test.forward(std_grain=30)"
   ]
  },
  {
   "cell_type": "markdown",
   "metadata": {},
   "source": [
    "A final option is to pass the obs_data array to the model_test object, and then run `.forward()` method. This approah uses the measured data's grain sizes to calculate a mean and $\\pm$ 2 $\\sigma$ standard deviation."
   ]
  },
  {
   "cell_type": "code",
   "execution_count": null,
   "metadata": {},
   "outputs": [],
   "source": [
    "model_test = tT_model(grain_in,tT_in_test,obs_data)\n",
    "model_data = model_test.forward()"
   ]
  },
  {
   "cell_type": "markdown",
   "metadata": {},
   "source": [
    "The model_data variable here is a figure object. "
   ]
  },
  {
   "cell_type": "code",
   "execution_count": null,
   "metadata": {},
   "outputs": [],
   "source": [
    "type(model_data)"
   ]
  },
  {
   "cell_type": "markdown",
   "metadata": {},
   "source": [
    "You can manipulate as you want to. The following bit of code will save the figure as a png file in your current directory."
   ]
  },
  {
   "cell_type": "code",
   "execution_count": null,
   "metadata": {},
   "outputs": [],
   "source": [
    "model_data.savefig('dateeU.png')"
   ]
  }
 ],
 "metadata": {
  "kernelspec": {
   "display_name": "py310",
   "language": "python",
   "name": "python3"
  },
  "language_info": {
   "codemirror_mode": {
    "name": "ipython",
    "version": 3
   },
   "file_extension": ".py",
   "mimetype": "text/x-python",
   "name": "python",
   "nbconvert_exporter": "python",
   "pygments_lexer": "ipython3",
   "version": "3.10.4"
  }
 },
 "nbformat": 4,
 "nbformat_minor": 2
}
