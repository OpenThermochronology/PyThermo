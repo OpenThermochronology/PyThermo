{
 "cells": [
  {
   "cell_type": "code",
   "execution_count": 1,
   "metadata": {},
   "outputs": [],
   "source": [
    "import numpy as np\n",
    "import pandas as pd\n",
    "import pythermo as pyt"
   ]
  },
  {
   "cell_type": "code",
   "execution_count": 2,
   "metadata": {},
   "outputs": [],
   "source": [
    "tT_in_test = np.array([[0,20,0,20,0,20,0,20],[25,120,50,60,75,80,100,140],[0,0,60,40,230,50,0,0],[0,0,270,50,0,0,0,0]])"
   ]
  },
  {
   "cell_type": "code",
   "execution_count": 3,
   "metadata": {},
   "outputs": [],
   "source": [
    "\n",
    "tT_in = np.array([[0,20],[250,150],[500,20]])\n",
    "\n",
    "tT = pyt.tT_path(tT_in)\n",
    "\n",
    "tT.tT_interpolate()\n",
    "\n",
    "zirc_anneal,zirc_tT = tT.guenthner_anneal()"
   ]
  },
  {
   "cell_type": "code",
   "execution_count": 4,
   "metadata": {},
   "outputs": [
    {
     "name": "stdout",
     "output_type": "stream",
     "text": [
      "425.40529477825146\n"
     ]
    }
   ],
   "source": [
    "\n",
    "U_ppm = 1000\n",
    "Th_ppm = 500\n",
    "Sm_ppm = 0\n",
    "radius = 60\n",
    "log2_nodes = 8\n",
    "\n",
    "zirc_grain = pyt.zircon(radius,log2_nodes,zirc_tT,zirc_anneal,U_ppm,Th_ppm,Sm_ppm)\n",
    "\n",
    "zirc_date = zirc_grain.guenthner_date()\n",
    "print(zirc_date)"
   ]
  }
 ],
 "metadata": {
  "kernelspec": {
   "display_name": "py310",
   "language": "python",
   "name": "python3"
  },
  "language_info": {
   "codemirror_mode": {
    "name": "ipython",
    "version": 3
   },
   "file_extension": ".py",
   "mimetype": "text/x-python",
   "name": "python",
   "nbconvert_exporter": "python",
   "pygments_lexer": "ipython3",
   "version": "3.10.4"
  }
 },
 "nbformat": 4,
 "nbformat_minor": 2
}
