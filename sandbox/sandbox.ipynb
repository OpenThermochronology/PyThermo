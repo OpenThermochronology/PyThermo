{
 "cells": [
  {
   "cell_type": "code",
   "execution_count": 15,
   "metadata": {},
   "outputs": [],
   "source": [
    "import numpy as np\n",
    "import pandas as pd\n",
    "import pythermo as pyt\n",
    "import matplotlib.pyplot as plt\n",
    "plt.rcParams.update({'font.size': 18})\n",
    "%matplotlib inline\n",
    "%config InlineBackend.figure_format='retina'"
   ]
  },
  {
   "cell_type": "markdown",
   "metadata": {},
   "source": [
    "## Multi-path diffusion testing"
   ]
  },
  {
   "cell_type": "code",
   "execution_count": 16,
   "metadata": {},
   "outputs": [],
   "source": [
    "#CONSTANTS\n",
    "marker_size = 12\n",
    "label_size = 22\n",
    "legend_size = 14\n",
    "\n",
    "sec_per_myr = 3.15569259747 * 10**13\n",
    "sec_per_yr = 3.15569259747 * 10**7\n",
    "\n",
    "#gas constant in kJ/K * mol-1\n",
    "gas_constant = 0.008314462618\n",
    "\n",
    "#jaffey decay constants, 1/s\n",
    "lambda_232 = np.log(2) / (1.405 * 10**10) * (1/sec_per_yr)\n",
    "lambda_235 = np.log(2) / (7.0381 * 10**8) * (1/sec_per_yr)\n",
    "lambda_238 = np.log(2) / (4.4683 * 10**9) * (1/sec_per_yr)\n",
    "lambda_147 = 6.54 * 10**-12 * (1 / sec_per_yr)\n",
    "\n",
    "#Avogadro conversion constants\n",
    "atom_mol = 6.02214076 * 10**23\n",
    "atom_nmol = 6.02214076 * 10**14\n",
    "\n",
    "#ppm to atoms/g conversion factor, atomic weights from 2021 IUPAC report, uses 1/137.818 ratio for U isotopes\n",
    "U235_ppm_atom = (1 / 1000000) * (0.0072559 / 238.02891) * atom_mol\n",
    "U238_ppm_atom = (1 / 1000000) * (0.99274405 / 238.02891) * atom_mol\n",
    "Th_ppm_atom = (1 / 1000000) * (1 / 232.0377) * atom_mol\n",
    "Sm_ppm_atom = (1 / 1000000) * (0.015 / 150.36) * atom_mol\n",
    "\n",
    "#mass of amorphous material produced per alpha event (g/alpha)\n",
    "#Palenik et al. 2003\n",
    "B_a = 5.48e-19\n",
    "\n",
    "#mean intercept length of zircon with dose of 1e14 alphas/g (nm)\n",
    "l_int_0 = 45920\n",
    "\n",
    "#surface area to volume ratio of damage capsule (cm-1)\n",
    "SV = 1.669\n",
    "\n",
    "#temp at 100 for exponential, try 260 for linear\n",
    "\n",
    "#pick 'linear' or 'exponential' for fit\n",
    "trap_fit = 'exponential'\n",
    "\n",
    "#fit terms\n",
    "if trap_fit == 'exponential':\n",
    "    kappa_2 = -1e-4\n",
    "    k_star = 1e-14\n",
    "    n = 10\n",
    "    gamma = 2e-19\n",
    "    omega = 0.25\n",
    "    Ea_trap = 160 #kJ/mol\n",
    "    Ea_z = 52 #kJ/mol\n",
    "    D0_z = 2e-3 #cm2/s\n",
    "elif trap_fit == 'linear':\n",
    "    kappa_2 = -1e-4\n",
    "    k_star = 5e-9\n",
    "    n = 10\n",
    "    gamma = .15\n",
    "    Ea_trap = 10 #kJ/mol\n",
    "    Ea_z = 150 #kJ/mol\n",
    "    D0_z = 100000 #cm2/s\n",
    "\n",
    "Ea_N17 = 70.74\n",
    "D0_N17 = 0.006367 #cm2/s\n",
    "\n",
    "Ea_G3 = 106.53\n",
    "D0_G3 = 0.004193 #cm2/s"
   ]
  },
  {
   "cell_type": "code",
   "execution_count": 17,
   "metadata": {},
   "outputs": [],
   "source": [
    "#FUNCTIONS\n",
    "\n",
    "def diffusivity(D0, Ea, temp):\n",
    "    temp_K = temp + 273.15\n",
    "    D = D0 * np.exp(-Ea/(temp_K*gas_constant))\n",
    "    return D\n",
    "\n",
    "#direct impact model\n",
    "def f_a_DI(dose):\n",
    "    f_a = 1 - np.exp(-B_a * dose)\n",
    "    return f_a\n",
    "\n",
    "#modified single overlap model (when n is greater than 1)\n",
    "def f_a_SO(dose):\n",
    "    f_a = 1 - ((1 + B_a*dose) * np.exp(-(B_a*dose)))**n\n",
    "    return f_a\n",
    "\n",
    "#modified double overlap model (when n is greater than 1)\n",
    "def f_a_DO(dose):\n",
    "    f_a = 1 - ((1 + B_a*dose + B_a**2*dose**2/2) * np.exp(-B_a * dose))**n\n",
    "    return f_a\n",
    "\n",
    "#ketcham et al. 2013 FT percolation threshold \n",
    "def p_inf_FT(dose):\n",
    "    p_c = 0.0001736\n",
    "    f_a = 1 - np.exp(-B_a * dose)\n",
    "    beta_FT = 1.814\n",
    "    p_inf = 1 - (p_c/f_a)**beta_FT\n",
    "    \n",
    "    return p_inf\n",
    "\n",
    "def Guenthner_2023(dose, temp, size):\n",
    "    temp_K = temp + 273.15\n",
    "\n",
    "    #tort parameters\n",
    "    f_blocks = f_a_DI(dose)\n",
    "    l_int = (4.2/(f_blocks * SV)) - 2.5\n",
    "    tau = (l_int_0/l_int)**2\n",
    "\n",
    "    D0_v = D0_z*(1/tau)\n",
    "\n",
    "    if trap_fit == 'linear':\n",
    "        psi = (gamma * f_blocks * np.exp(Ea_trap/(gas_constant * temp_K))) + 1\n",
    "    elif trap_fit == 'exponential':\n",
    "        psi = (gamma * dose**omega * np.exp(Ea_trap/(gas_constant * temp_K))) + 1\n",
    "    \n",
    "    D_v = D0_v * np.exp(-Ea_z/(gas_constant * temp_K))/psi\n",
    "    \n",
    "    D_N17 = diffusivity(D0_N17, Ea_N17, temp)\n",
    "\n",
    "    #fraction amorphous\n",
    "    f = f_a_SO(dose)\n",
    "\n",
    "    #treat kappa_2 as a constant, solve for kappa_1\n",
    "    kappa_1 = -kappa_2*(1-f)/(k_star*f)\n",
    "\n",
    "    #Lee equation\n",
    "    D_b_a2 = (1/(kappa_1 - kappa_2)) * (-kappa_2 * D_N17/(size)**2 + kappa_1 * D_v/(size)**2)\n",
    "\n",
    "    return D_b_a2, D_v, kappa_1, f"
   ]
  },
  {
   "cell_type": "code",
   "execution_count": 18,
   "metadata": {},
   "outputs": [],
   "source": [
    "#in C\n",
    "temp = 400\n",
    "\n",
    "#grain size (in cm)\n",
    "size = .1\n",
    "\n",
    "U_ppm = 1000\n",
    "Th_ppm = 500\n",
    "Sm_ppm = 0\n",
    "radius = size * 10000\n",
    "log2_nodes = 13\n",
    "nodes = 2**log2_nodes + 1\n",
    "r_step = (size * 10000) / (nodes + 0.5)\n",
    "zirc_anneal = 0\n",
    "kelvin = 273.15\n",
    "zirc_time = np.array([60*60,0]) #np.arange(.0015,0,-0.0005)\n",
    "zirc_temp = np.ones(np.size(zirc_time)) * temp+kelvin\n",
    "zirc_tT = np.column_stack((zirc_time,zirc_temp))\n",
    "D_b = np.zeros(np.size(zirc_tT,0))\n",
    "D_v = np.zeros(np.size(zirc_tT,0))\n",
    "D_sc = np.zeros(np.size(zirc_tT,0))\n",
    "\n",
    "t_1 = 20 * sec_per_myr\n",
    "t_2 = 0\n",
    "U238 = U_ppm * U238_ppm_atom\n",
    "U235 = U_ppm * U235_ppm_atom\n",
    "Th232 = Th_ppm * Th_ppm_atom\n",
    "Sm147 = Sm_ppm * Sm_ppm_atom\n",
    "\n",
    "alphas = 8 * U238 * (np.exp(lambda_238 * t_1) - np.exp(lambda_238 * t_2)) + 7 * U235 * (np.exp(lambda_235 * t_1) - np.exp(lambda_235 * t_2)) + 6 * Th232 * (np.exp(lambda_232 * t_1) - np.exp(lambda_232 * t_2)) #+ Sm147 * (np.exp(lambda_147 * t_1) - np.exp(lambda_147 * t_2))\n",
    "\n",
    "zirc_mp_test = pyt.zircon(radius,log2_nodes,zirc_tT,zirc_anneal,U_ppm,Th_ppm,Sm_ppm)\n",
    "\n",
    "test_aej = np.zeros(nodes)\n",
    "test_init_He = np.ones(nodes) * alphas\n",
    "\n",
    "for i in range(np.size(zirc_tT,0)):\n",
    "    D_sc[i] = diffusivity(D0_N17, Ea_N17, zirc_tT[i,1])\n",
    "    #D_sc[i] = diffusivity(D0_G3, Ea_G3, zirc_tT[i,1])\n",
    "    D_b[i], D_v[i], kappa_1, f = Guenthner_2023(6e17,zirc_tT[i,1],size)\n",
    "\n",
    "#convert to microns2/s\n",
    "D_sc = D_sc * 1e8\n",
    "D_v = D_v * 1e8\n",
    "\n",
    "#override kappa 1 calculation for code testing purposes\n",
    "kappa_1 = 1e-8\n",
    "diff_parameters = {'D_sc':D_sc, 'D_v':D_v, 'kappa_1':kappa_1, 'kappa_2':kappa_2, 'f':f}\n",
    "\n",
    "tol = 1e-4\n"
   ]
  },
  {
   "cell_type": "code",
   "execution_count": 19,
   "metadata": {},
   "outputs": [],
   "source": [
    "#bulk_He, fast_He, lat_He = zirc_mp_test.mp_diffusion(nodes, r_step, zirc_tT, diff_parameters, tol, test_aej, test_aej, test_aej, test_aej, init_He=test_init_He, produce=False)\n"
   ]
  },
  {
   "cell_type": "code",
   "execution_count": 20,
   "metadata": {},
   "outputs": [],
   "source": [
    "\n",
    "#rad = [(i + 0.5) * r_step for i in range(nodes)]\n",
    "#plt.scatter(rad, lat_He)\n",
    "#plt.show()"
   ]
  },
  {
   "cell_type": "code",
   "execution_count": 21,
   "metadata": {},
   "outputs": [],
   "source": [
    "#rad = [(i + 0.5) * r_step for i in range(nodes)]\n",
    "#plt.scatter(rad, fast_He)\n",
    "#plt.show()"
   ]
  },
  {
   "cell_type": "markdown",
   "metadata": {},
   "source": [
    "## Arrhenius plotter testing"
   ]
  },
  {
   "cell_type": "code",
   "execution_count": 22,
   "metadata": {},
   "outputs": [],
   "source": [
    "dict = {'mineral type':['zircon'], 'age':[20],'error':[2],'size':[1000],'U ppm':[1000],'Th ppm':[500],'Sm ppm':[0],'diffusion model':['mp_diffusion'],'annealing model':['guenthner']}\n",
    "\n",
    "grain_in = pd.DataFrame(\n",
    "                        data=dict,\n",
    "                        columns = ['mineral type', 'age', 'error','size','U ppm', 'Th ppm', 'Sm ppm', 'diffusion model', 'annealing model'],\n",
    "                        index = ['sample 1']\n",
    "                    )\n",
    "\n",
    "step_heat_test = np.array([[3600, 150], [3600, 200], [3600, 250], [3600, 300], [3600, 350], [3600, 400], [3600, 375], [3600, 275], [3600, 175]])\n",
    "#step_heat_test = np.array([[3600, 200]])\n",
    "model_test = pyt.tT_model(grain_in, step_heat_test)\n",
    "arrhenius_list = model_test.arrhenius(diff_parameters, tol, eject=False)\n"
   ]
  },
  {
   "cell_type": "code",
   "execution_count": 26,
   "metadata": {},
   "outputs": [
    {
     "data": {
      "image/png": "[encoded data removed]",
      "text/plain": [
       "<Figure size 600x400 with 1 Axes>"
      ]
     },
     "metadata": {
      "image/png": {
       "height": 390,
       "width": 570
      }
     },
     "output_type": "display_data"
    }
   ],
   "source": [
    "plt.figure(figsize = (6,4))\n",
    "plt.xlabel(r'$10^{4}$/T ($K^{-1}$)')\n",
    "plt.ylabel(r'ln(D/$a^{2}$)')\n",
    "plt.xlim(8, 26)\n",
    "plt.ylim(-11.8, -11.4)\n",
    "plt.xticks(fontsize=10)\n",
    "plt.yticks(fontsize=10)\n",
    "\n",
    "D_a2_array = arrhenius_list[0]\n",
    "\n",
    "x_axis = D_a2_array[:, 0]\n",
    "y_axis = D_a2_array[:, 1]\n",
    "\n",
    "plt.plot(x_axis, y_axis, color = 'b', marker='o', linewidth=0.5, markersize=5)\n",
    "\n",
    "plt.show()\n"
   ]
  }
 ],
 "metadata": {
  "kernelspec": {
   "display_name": "py310",
   "language": "python",
   "name": "python3"
  },
  "language_info": {
   "codemirror_mode": {
    "name": "ipython",
    "version": 3
   },
   "file_extension": ".py",
   "mimetype": "text/x-python",
   "name": "python",
   "nbconvert_exporter": "python",
   "pygments_lexer": "ipython3",
   "version": "3.10.4"
  }
 },
 "nbformat": 4,
 "nbformat_minor": 2
}
