{
 "cells": [
  {
   "cell_type": "code",
   "execution_count": 1,
   "metadata": {},
   "outputs": [],
   "source": [
    "import numpy as np\n",
    "import pandas as pd\n",
    "import pythermo as pyt\n",
    "import matplotlib.pyplot as plt\n",
    "plt.rcParams.update({'font.size': 18})\n",
    "%matplotlib inline"
   ]
  },
  {
   "cell_type": "markdown",
   "metadata": {},
   "source": [
    "## Arrhenius plotter testing"
   ]
  },
  {
   "cell_type": "code",
   "execution_count": 2,
   "metadata": {},
   "outputs": [
    {
     "data": {
      "text/html": [
       "<div>\n",
       "<style scoped>\n",
       "    .dataframe tbody tr th:only-of-type {\n",
       "        vertical-align: middle;\n",
       "    }\n",
       "\n",
       "    .dataframe tbody tr th {\n",
       "        vertical-align: top;\n",
       "    }\n",
       "\n",
       "    .dataframe thead th {\n",
       "        text-align: right;\n",
       "    }\n",
       "</style>\n",
       "<table border=\"1\" class=\"dataframe\">\n",
       "  <thead>\n",
       "    <tr style=\"text-align: right;\">\n",
       "      <th></th>\n",
       "      <th>mineral type</th>\n",
       "      <th>age</th>\n",
       "      <th>error</th>\n",
       "      <th>size</th>\n",
       "      <th>U ppm</th>\n",
       "      <th>Th ppm</th>\n",
       "      <th>Sm ppm</th>\n",
       "      <th>diffusion model</th>\n",
       "      <th>annealing model</th>\n",
       "    </tr>\n",
       "  </thead>\n",
       "  <tbody>\n",
       "    <tr>\n",
       "      <th>sample 1</th>\n",
       "      <td>zircon</td>\n",
       "      <td>20</td>\n",
       "      <td>2</td>\n",
       "      <td>100</td>\n",
       "      <td>1000</td>\n",
       "      <td>0</td>\n",
       "      <td>0</td>\n",
       "      <td>mp_diffusion</td>\n",
       "      <td>guenthner</td>\n",
       "    </tr>\n",
       "  </tbody>\n",
       "</table>\n",
       "</div>"
      ],
      "text/plain": [
       "         mineral type  age  error  size  U ppm  Th ppm  Sm ppm  \\\n",
       "sample 1       zircon   20      2   100   1000       0       0   \n",
       "\n",
       "         diffusion model annealing model  \n",
       "sample 1    mp_diffusion       guenthner  "
      ]
     },
     "execution_count": 2,
     "metadata": {},
     "output_type": "execute_result"
    }
   ],
   "source": [
    "dict = {'mineral type':['zircon'], 'age':[20],'error':[2],'size':[100],'U ppm':[1000],'Th ppm':[0],'Sm ppm':[0],'diffusion model':['mp_diffusion'],'annealing model':['guenthner']}\n",
    "\n",
    "grain_in = pd.DataFrame(\n",
    "                        data=dict,\n",
    "                        columns = ['mineral type', 'age', 'error','size','U ppm', 'Th ppm', 'Sm ppm', 'diffusion model', 'annealing model'],\n",
    "                        index = ['sample 1']\n",
    "                    )\n",
    "\n",
    "grain_in"
   ]
  },
  {
   "cell_type": "markdown",
   "metadata": {},
   "source": [
    "## Multi-path diffusion testing"
   ]
  },
  {
   "cell_type": "code",
   "execution_count": 3,
   "metadata": {},
   "outputs": [],
   "source": [
    "#CONSTANTS\n",
    "marker_size = 12\n",
    "label_size = 22\n",
    "legend_size = 14\n",
    "\n",
    "sec_per_myr = 3.15569259747 * 10**13\n",
    "sec_per_yr = 3.15569259747 * 10**7\n",
    "\n",
    "#gas constant in kJ/K * mol-1\n",
    "gas_constant = 0.008314462618\n",
    "\n",
    "#jaffey decay constants, 1/s\n",
    "lambda_232 = np.log(2) / (1.405 * 10**10) * (1/sec_per_yr)\n",
    "lambda_235 = np.log(2) / (7.0381 * 10**8) * (1/sec_per_yr)\n",
    "lambda_238 = np.log(2) / (4.4683 * 10**9) * (1/sec_per_yr)\n",
    "\n",
    "#Avogadro conversion constants\n",
    "atom_mol = 6.02214076 * 10**23\n",
    "atom_nmol = 6.02214076 * 10**14\n",
    "\n",
    "#ppm to atoms/g conversion factor, atomic weights from 2021 IUPAC report, uses 1/137.818 ratio for U isotopes\n",
    "U235_ppm_atom = (1 / 1000000) * (0.0072559 / 238.02891) * atom_mol\n",
    "U238_ppm_atom = (1 / 1000000) * (0.99274405 / 238.02891) * atom_mol\n",
    "Th_ppm_atom = (1 / 1000000) * (1 / 232.0377) * atom_mol\n",
    "Sm_ppm_atom = (1 / 1000000) * (0.015 / 150.36) * atom_mol\n",
    "\n",
    "#mass of amorphous material produced per alpha event (g/alpha)\n",
    "#Palenik et al. 2003\n",
    "B_a = 5.48e-19\n",
    "\n",
    "#mean intercept length of zircon with dose of 1e14 alphas/g (nm)\n",
    "l_int_0 = 45920\n",
    "\n",
    "#surface area to volume ratio of damage capsule (cm-1)\n",
    "SV = 1.669\n",
    "\n",
    "#temp at 100 for exponential, try 260 for linear\n",
    "\n",
    "#pick 'linear' or 'exponential' for fit\n",
    "trap_fit = 'exponential'\n",
    "\n",
    "#fit terms\n",
    "if trap_fit == 'exponential':\n",
    "    kappa_2 = -1e-4\n",
    "    k_star = 1e-14\n",
    "    n = 10\n",
    "    gamma = 2e-19\n",
    "    omega = 0.25\n",
    "    Ea_trap = 160 #kJ/mol\n",
    "    Ea_z = 52 #kJ/mol\n",
    "    D0_z = 2e-3 #cm2/s\n",
    "elif trap_fit == 'linear':\n",
    "    kappa_2 = -1e-4\n",
    "    k_star = 5e-9\n",
    "    n = 10\n",
    "    gamma = .15\n",
    "    Ea_trap = 10 #kJ/mol\n",
    "    Ea_z = 150 #kJ/mol\n",
    "    D0_z = 100000 #cm2/s\n",
    "\n",
    "Ea_N17 = 70.74\n",
    "D0_N17 = 0.006367 #cm2/s\n",
    "\n",
    "Ea_G3 = 106.53\n",
    "D0_G3 = 0.004193 #cm2/s"
   ]
  },
  {
   "cell_type": "code",
   "execution_count": 4,
   "metadata": {},
   "outputs": [],
   "source": [
    "#FUNCTIONS\n",
    "\n",
    "def diffusivity(D0, Ea, temp):\n",
    "    temp_K = temp + 273.15\n",
    "    D = D0 * np.exp(-Ea/(temp_K*gas_constant))\n",
    "    return D\n",
    "\n",
    "#direct impact model\n",
    "def f_a_DI(dose):\n",
    "    f_a = 1 - np.exp(-B_a * dose)\n",
    "    return f_a\n",
    "\n",
    "#modified single overlap model (when n is greater than 1)\n",
    "def f_a_SO(dose):\n",
    "    f_a = 1 - ((1 + B_a*dose) * np.exp(-(B_a*dose)))**n\n",
    "    return f_a\n",
    "\n",
    "#modified double overlap model (when n is greater than 1)\n",
    "def f_a_DO(dose):\n",
    "    f_a = 1 - ((1 + B_a*dose + B_a**2*dose**2/2) * np.exp(-B_a * dose))**n\n",
    "    return f_a\n",
    "\n",
    "#ketcham et al. 2013 FT percolation threshold \n",
    "def p_inf_FT(dose):\n",
    "    p_c = 0.0001736\n",
    "    f_a = 1 - np.exp(-B_a * dose)\n",
    "    beta_FT = 1.814\n",
    "    p_inf = 1 - (p_c/f_a)**beta_FT\n",
    "    \n",
    "    return p_inf\n",
    "\n",
    "def Guenthner_2023(dose, temp, size):\n",
    "    temp_K = temp + 273.15\n",
    "\n",
    "    #tort parameters\n",
    "    f_blocks = f_a_DI(dose)\n",
    "    l_int = (4.2/(f_blocks * SV)) - 2.5\n",
    "    tau = (l_int_0/l_int)**2\n",
    "\n",
    "    D0_v = D0_z*(1/tau)\n",
    "\n",
    "    if trap_fit == 'linear':\n",
    "        psi = (gamma * f_blocks * np.exp(Ea_trap/(gas_constant * temp_K))) + 1\n",
    "    elif trap_fit == 'exponential':\n",
    "        psi = (gamma * dose**omega * np.exp(Ea_trap/(gas_constant * temp_K))) + 1\n",
    "    \n",
    "    D_v = D0_v * np.exp(-Ea_z/(gas_constant * temp_K))/psi\n",
    "    \n",
    "    D_N17 = diffusivity(D0_N17, Ea_N17, temp)\n",
    "\n",
    "    #fraction amorphous\n",
    "    f = f_a_SO(dose)\n",
    "\n",
    "    #treat kappa_2 as a constant, solve for kappa_1\n",
    "    kappa_1 = -kappa_2*(1-f)/(k_star*f)\n",
    "\n",
    "    #Lee equation\n",
    "    D_b_a2 = (1/(kappa_1 - kappa_2)) * (-kappa_2 * D_N17/(size)**2 + kappa_1 * D_v/(size)**2)\n",
    "\n",
    "    return D_b_a2, D_v, kappa_1, f"
   ]
  },
  {
   "cell_type": "code",
   "execution_count": 5,
   "metadata": {},
   "outputs": [],
   "source": [
    "#in C\n",
    "temp = 400\n",
    "\n",
    "#grain size (in cm)\n",
    "size = .1\n",
    "\n",
    "U_ppm = 1000\n",
    "Th_ppm = 500\n",
    "Sm_ppm = 0\n",
    "radius = size * 10000\n",
    "log2_nodes = 13\n",
    "nodes = 2**log2_nodes + 1\n",
    "r_step = (size * 10000) / (nodes + 0.5)\n",
    "zirc_anneal = 0\n",
    "kelvin = 273.15\n",
    "zirc_time = np.array([60*60,0]) #np.arange(.0015,0,-0.0005)\n",
    "zirc_temp = np.ones(np.size(zirc_time)) * temp+kelvin\n",
    "zirc_tT = np.column_stack((zirc_time,zirc_temp))\n",
    "D_b = np.zeros(np.size(zirc_tT,0))\n",
    "D_v = np.zeros(np.size(zirc_tT,0))\n",
    "D_sc = np.zeros(np.size(zirc_tT,0))\n",
    "\n",
    "t_1 = 20 * sec_per_myr\n",
    "t_2 = 0\n",
    "U238 = U_ppm * U238_ppm_atom\n",
    "U235 = U_ppm * U235_ppm_atom\n",
    "Th232 = Th_ppm * Th_ppm_atom\n",
    "\n",
    "alphas = 8 * U238 * (np.exp(lambda_238 * t_1) - np.exp(lambda_238 * t_2)) + 7 * U235 * (np.exp(lambda_235 * t_1) - np.exp(lambda_235 * t_2)) + 6 * Th232 * np.exp(lambda_232 * t_1) - np.exp(lambda_232 * t_2)\n",
    "\n",
    "zirc_mp_test = pyt.zircon(radius,log2_nodes,zirc_tT,zirc_anneal,U_ppm,Th_ppm,Sm_ppm)\n",
    "\n",
    "test_aej = np.zeros(nodes)\n",
    "test_init_He = np.ones(nodes) * alphas\n",
    "\n",
    "for i in range(np.size(zirc_tT,0)):\n",
    "    D_sc[i] = diffusivity(D0_N17, Ea_N17, zirc_tT[i,1])\n",
    "    #D_sc[i] = diffusivity(D0_G3, Ea_G3, zirc_tT[i,1])\n",
    "    D_b[i], D_v[i], kappa_1, f = Guenthner_2023(6e17,zirc_tT[i,1],size)\n",
    "\n",
    "#convert to microns2/s\n",
    "D_sc = D_sc * 1e8\n",
    "D_v = D_v * 1e8\n",
    "\n",
    "#override kappa 1 calculation for code testing purposes\n",
    "kappa_1 = 1e-8\n",
    "diff_parameters = {'D_sc':D_sc, 'D_v':D_v, 'kappa_1':kappa_1, 'kappa_2':kappa_2, 'f':f}\n",
    "\n",
    "tol = 1e-4\n"
   ]
  },
  {
   "cell_type": "code",
   "execution_count": 6,
   "metadata": {},
   "outputs": [
    {
     "name": "stdout",
     "output_type": "stream",
     "text": [
      "0.35932771383588835\n",
      "[[3600.    673.15]\n",
      " [   0.    673.15]]\n",
      "1e-08\n",
      "8193\n"
     ]
    }
   ],
   "source": [
    "print(f)\n",
    "print(zirc_tT)\n",
    "print(kappa_1)\n",
    "print(nodes)"
   ]
  },
  {
   "cell_type": "code",
   "execution_count": 7,
   "metadata": {},
   "outputs": [],
   "source": [
    "bulk_He, fast_He, lat_He = zirc_mp_test.mp_diffusion(nodes, r_step, zirc_tT, diff_parameters, tol, test_aej, test_aej, test_aej, test_aej, init_He=test_init_He, produce=False)\n"
   ]
  },
  {
   "cell_type": "code",
   "execution_count": 9,
   "metadata": {},
   "outputs": [
    {
     "data": {
      "image/png": "[encoded data removed]",
      "text/plain": [
       "<Figure size 640x480 with 1 Axes>"
      ]
     },
     "metadata": {},
     "output_type": "display_data"
    }
   ],
   "source": [
    "\n",
    "rad = [(i + 0.5) * r_step for i in range(nodes)]\n",
    "plt.scatter(rad, lat_He)\n",
    "plt.show()"
   ]
  }
 ],
 "metadata": {
  "kernelspec": {
   "display_name": "py310",
   "language": "python",
   "name": "python3"
  },
  "language_info": {
   "codemirror_mode": {
    "name": "ipython",
    "version": 3
   },
   "file_extension": ".py",
   "mimetype": "text/x-python",
   "name": "python",
   "nbconvert_exporter": "python",
   "pygments_lexer": "ipython3",
   "version": "3.10.4"
  }
 },
 "nbformat": 4,
 "nbformat_minor": 2
}
